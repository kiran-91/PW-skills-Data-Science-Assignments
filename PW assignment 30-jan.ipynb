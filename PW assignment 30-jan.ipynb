{
 "cells": [
  {
   "cell_type": "markdown",
   "id": "eca053c7",
   "metadata": {},
   "source": [
    "1. write a program to accept percentage from the user and display the grade according to the following"
   ]
  },
  {
   "cell_type": "code",
   "execution_count": 2,
   "id": "14b1a7e7",
   "metadata": {},
   "outputs": [
    {
     "name": "stdout",
     "output_type": "stream",
     "text": [
      "enter marks:99\n",
      "A\n"
     ]
    }
   ],
   "source": [
    "marks = int(input(\"enter marks:\"))\n",
    "if 90 <= marks <= 100:\n",
    "    print(\"A\") \n",
    "elif 80 <= marks < 90:\n",
    "    print(\"B\") \n",
    "elif 60 <= marks < 80:\n",
    "    print(\"C\") \n",
    "elif 0 <= marks < 60:\n",
    "    print(\"D\")"
   ]
  },
  {
   "cell_type": "markdown",
   "id": "9f10835f",
   "metadata": {},
   "source": [
    "2. write a python program to accept the cost price of a bike and display the road tax to be paid "
   ]
  },
  {
   "cell_type": "code",
   "execution_count": 3,
   "id": "14d5017b",
   "metadata": {},
   "outputs": [
    {
     "name": "stdout",
     "output_type": "stream",
     "text": [
      "enter cost:40000\n",
      "5%\n"
     ]
    }
   ],
   "source": [
    "cost = int(input(\"enter cost:\"))\n",
    "\n",
    "if cost > 100000:\n",
    "    print(\"15%\") \n",
    "elif 50000 <= cost <= 100000:\n",
    "    print(\"10%\") \n",
    "elif cost < 50000:\n",
    "    print(\"5%\") "
   ]
  },
  {
   "cell_type": "markdown",
   "id": "b7556c20",
   "metadata": {},
   "source": [
    "3. accept any city from the user and display manuments of that city"
   ]
  },
  {
   "cell_type": "code",
   "execution_count": 5,
   "id": "493dc4aa",
   "metadata": {},
   "outputs": [
    {
     "name": "stdout",
     "output_type": "stream",
     "text": [
      "Enter a city: delhi\n",
      "the monument is red fort\n"
     ]
    }
   ],
   "source": [
    "city = input(\"Enter a city: \")\n",
    "\n",
    "if city == \"delhi\":\n",
    "    print(\"the monument is red fort\")\n",
    "elif city == \"agra\":\n",
    "    print(\"the monument is taj mahal\")\n",
    "elif city == \"jaipur\":\n",
    "    print(\"the monument is jay mahal\")"
   ]
  },
  {
   "cell_type": "markdown",
   "id": "e3e9f8cc",
   "metadata": {},
   "source": [
    "4. check how many times a given number can be divided by 3 before it is less than or equal to 10"
   ]
  },
  {
   "cell_type": "code",
   "execution_count": 7,
   "id": "75aba2ae",
   "metadata": {},
   "outputs": [
    {
     "name": "stdout",
     "output_type": "stream",
     "text": [
      "Enter a number: 3\n",
      "The number can be divided by 3 0 times before it becomes less than or equal to 10.\n"
     ]
    }
   ],
   "source": [
    "number = int(input(\"Enter a number: \"))\n",
    "\n",
    "count = 0\n",
    "\n",
    "while number > 10:\n",
    "    number = number / 3\n",
    "    count += 1\n",
    "print(f\"The number can be divided by 3 {count} times before it becomes less than or equal to 10.\")"
   ]
  },
  {
   "cell_type": "markdown",
   "id": "2d80dc31",
   "metadata": {},
   "source": [
    "5. why and when to use while loop in python give a detailed description with example"
   ]
  },
  {
   "cell_type": "markdown",
   "id": "d184c720",
   "metadata": {},
   "source": [
    "A while loop in Python is used when you want to repeatedly execute a block of code as long as a certain condition is true. It's a fundamental control flow structure in programming and is particularly useful when you don't know in advance how many iterations will be required.\n",
    "\n",
    "Here's a detailed description of when and why to use a while loop in Python, along with an example:\n",
    "\n",
    "When to Use a While Loop:\n",
    "\n",
    "1. Indeterminate Iterations: You use a while loop when you don't know in advance how many times you need to repeat a set of instructions. The loop continues until a specified condition becomes False.\n",
    "\n",
    "2. Continuous Monitoring: When you need to continuously monitor a condition or event and perform an action until a certain condition is met. For example, polling for user input or checking for changes in a sensor reading.\n",
    "\n",
    "3. Tasks with Variable Complexity: When the number of iterations needed for a task can vary based on input or external factors, a while loop allows you to adapt to these dynamic situations."
   ]
  },
  {
   "cell_type": "markdown",
   "id": "986f395d",
   "metadata": {},
   "source": [
    "6. \n",
    "use nested while loop to print 3 different pattern"
   ]
  },
  {
   "cell_type": "code",
   "execution_count": 8,
   "id": "8d386fc6",
   "metadata": {},
   "outputs": [
    {
     "name": "stdout",
     "output_type": "stream",
     "text": [
      "* * * * * \n",
      "* * * * * \n",
      "* * * * * \n",
      "* * * * * \n",
      "* * * * * \n"
     ]
    }
   ],
   "source": [
    "#Pattern 1 - Square Pattern\n",
    "# Pattern 1: Square\n",
    "n = 5\n",
    "i = 0\n",
    "while i < n:\n",
    "    j = 0\n",
    "    while j < n:\n",
    "        print(\"* \", end=\"\")\n",
    "        j += 1\n",
    "    print()\n",
    "    i += 1"
   ]
  },
  {
   "cell_type": "code",
   "execution_count": 9,
   "id": "72d275ac",
   "metadata": {},
   "outputs": [
    {
     "name": "stdout",
     "output_type": "stream",
     "text": [
      "* \n",
      "* * \n",
      "* * * \n",
      "* * * * \n",
      "* * * * * \n"
     ]
    }
   ],
   "source": [
    "#Pattern 2 - Right Triangle Pattern:\n",
    "# Pattern 2: Right Triangle\n",
    "n = 5\n",
    "i = 0\n",
    "while i < n:\n",
    "    j = 0\n",
    "    while j <= i:\n",
    "        print(\"* \", end=\"\")\n",
    "        j += 1\n",
    "    print()\n",
    "    i += 1"
   ]
  },
  {
   "cell_type": "code",
   "execution_count": 10,
   "id": "cd7bbfee",
   "metadata": {},
   "outputs": [
    {
     "name": "stdout",
     "output_type": "stream",
     "text": [
      "* * * * * \n",
      "* * * * \n",
      "* * * \n",
      "* * \n",
      "* \n"
     ]
    }
   ],
   "source": [
    "#Pattern 3 - Inverted Right Triangle Pattern:\n",
    "# Pattern 3: Inverted Right Triangle\n",
    "n = 5\n",
    "i = 0\n",
    "while i < n:\n",
    "    j = n\n",
    "    while j > i:\n",
    "        print(\"* \", end=\"\")\n",
    "        j -= 1\n",
    "    print()\n",
    "    i += 1"
   ]
  },
  {
   "cell_type": "markdown",
   "id": "ecac5813",
   "metadata": {},
   "source": [
    "7. reverse a while loop to display numbers from 10 to 1"
   ]
  },
  {
   "cell_type": "code",
   "execution_count": 11,
   "id": "368755b7",
   "metadata": {},
   "outputs": [
    {
     "name": "stdout",
     "output_type": "stream",
     "text": [
      "10\n",
      "9\n",
      "8\n",
      "7\n",
      "6\n",
      "5\n",
      "4\n",
      "3\n",
      "2\n",
      "1\n"
     ]
    }
   ],
   "source": [
    "number = 10\n",
    "\n",
    "while number >= 1:\n",
    "    print(number)\n",
    "    number -= 1"
   ]
  },
  {
   "cell_type": "markdown",
   "id": "acf6e337",
   "metadata": {},
   "source": [
    "8. question number 7 repeated twice"
   ]
  }
 ],
 "metadata": {
  "kernelspec": {
   "display_name": "Python 3 (ipykernel)",
   "language": "python",
   "name": "python3"
  },
  "language_info": {
   "codemirror_mode": {
    "name": "ipython",
    "version": 3
   },
   "file_extension": ".py",
   "mimetype": "text/x-python",
   "name": "python",
   "nbconvert_exporter": "python",
   "pygments_lexer": "ipython3",
   "version": "3.9.13"
  }
 },
 "nbformat": 4,
 "nbformat_minor": 5
}
