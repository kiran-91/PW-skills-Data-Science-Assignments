{
 "cells": [
  {
   "cell_type": "markdown",
   "id": "2d2750f0",
   "metadata": {},
   "source": [
    "1. who developed python programming language"
   ]
  },
  {
   "cell_type": "markdown",
   "id": "78236030",
   "metadata": {},
   "source": [
    "Python was developed by Guido van Rossum, a Dutch programmer. He began working on the language in the late 1980s and released the first version, Python 0.9.0, in February 1991. Guido van Rossum is often referred to as the \"Benevolent Dictator For Life\" (BDFL) of the Python community because of his significant influence and guidance in the language's development. Python has since become a widely used and popular programming language known for its simplicity and readability."
   ]
  },
  {
   "cell_type": "markdown",
   "id": "1e8923fc",
   "metadata": {},
   "source": [
    "2. which type of typing does python support?"
   ]
  },
  {
   "cell_type": "markdown",
   "id": "5078ece3",
   "metadata": {},
   "source": [
    "Dynamic Typing: In a dynamically-typed language like Python, the type of a variable is determined at runtime, not at compile-time. This means you can assign different types of values to a variable during the program's execution. Python allows you to change the type of a variable as needed, which offers flexibility but also requires careful coding to avoid unexpected type-related errors.\n",
    "\n",
    "Strong Typing: Python is also strongly typed, which means that the language enforces strict type rules. You cannot perform operations that are not compatible with the data types of the variables. For example, you can't add a string and an integer without explicitly converting one of them.\n",
    "\n",
    "Python's dynamic and strong typing help strike a balance between flexibility and safety, making it both user-friendly and reliable."
   ]
  },
  {
   "cell_type": "markdown",
   "id": "a820c62b",
   "metadata": {},
   "source": [
    "3. Is python case sensitive while dealing with identifiers"
   ]
  },
  {
   "cell_type": "markdown",
   "id": "c17b677a",
   "metadata": {},
   "source": [
    "Yes, Python is case-sensitive when it comes to identifiers such as variable names, function names, and class names. This means that Python treats uppercase and lowercase letters as distinct characters."
   ]
  },
  {
   "cell_type": "markdown",
   "id": "1bb90b57",
   "metadata": {},
   "source": [
    "4. what is the correct extension of python file?"
   ]
  },
  {
   "cell_type": "markdown",
   "id": "31b37633",
   "metadata": {},
   "source": [
    "The correct and standard file extension for Python source code files is .py. When you create Python scripts or programs, you should save them with the .py extension. For example, if you have a Python script, you might name it something like my_script.py.\n",
    "\n",
    "Using the '.py' extension helps both developers and the Python interpreter identify the file as containing Python code. This is a widely accepted convention in the Python programming community, and it makes it easier to work with Python files and tools."
   ]
  },
  {
   "cell_type": "markdown",
   "id": "b05f8656",
   "metadata": {},
   "source": [
    "5. is python code complicated or interpreted"
   ]
  },
  {
   "cell_type": "markdown",
   "id": "8bc91fe2",
   "metadata": {},
   "source": [
    "Python is an interpreted programming language. This means that Python code is not compiled into machine code as in compiled languages like C or C++; instead, it is executed line by line by the Python interpreter.\n"
   ]
  },
  {
   "cell_type": "markdown",
   "id": "6af6cd33",
   "metadata": {},
   "source": [
    "6. name a few blocks of code used to define in python language"
   ]
  },
  {
   "cell_type": "markdown",
   "id": "eb77509f",
   "metadata": {},
   "source": [
    "In Python, code blocks are defined using indentation rather than explicit curly braces or other delimiters. This indentation is crucial for determining the scope of statements within a block of code. Here are some common code blocks used in Python:\n",
    "\n",
    "Function Blocks: Functions in Python are defined using the def keyword, and the function's body is indented. \n",
    "Conditional Blocks: Conditional statements like if, elif, and else use indentation to define blocks.\n",
    "Loop Blocks: Loop constructs such as for and while also rely on indentation to define their blocks.\n",
    "Class Blocks: When defining classes in Python, the class body is indented."
   ]
  },
  {
   "cell_type": "markdown",
   "id": "128c3407",
   "metadata": {},
   "source": [
    "7. state a character used to give single-line comments in python"
   ]
  },
  {
   "cell_type": "markdown",
   "id": "24d03879",
   "metadata": {},
   "source": [
    "In Python, you can use the hash character (#) to create single-line comments. Anything following the '#' on the same line is treated as a comment and is not executed by the Python interpreter. Single-line comments are used for adding explanatory notes or documentation to your code. For example:"
   ]
  },
  {
   "cell_type": "markdown",
   "id": "14fb6975",
   "metadata": {},
   "source": [
    "8. mention functions which can help us to find the version of python that we are currently working on?"
   ]
  },
  {
   "cell_type": "markdown",
   "id": "e9d47137",
   "metadata": {},
   "source": [
    "1. 'sys' module:\n",
    "You can use the 'sys' module to access version-related information. The 'sys' module provides the 'version' and 'version_info' attributes. To get the Python version as a string, you can use 'sys.version', and to get version information as a tuple, you can use 'sys.version_info'.\n",
    "\n",
    "2. 'platform' module:\n",
    "The 'platform' module provides information about the Python version and the platform it's running on. You can use the 'platform.python_version()' function to get the Python version as a string.\n",
    "\n",
    "3. sysconfig' module (for more detailed information):\n",
    "The 'sysconfig' module can provide more detailed information about the Python installation, including paths and compiler details."
   ]
  },
  {
   "cell_type": "markdown",
   "id": "70434da5",
   "metadata": {},
   "source": [
    "9. python supports the creation of anonymous functions at runtime, using a construct called ________________"
   ]
  },
  {
   "cell_type": "markdown",
   "id": "801a526d",
   "metadata": {},
   "source": [
    "you can create anonymous functions at runtime using a construct called \"lambda\" functions. Lambda functions are also known as anonymous functions or lambda expressions. They are defined using the lambda keyword and are often used for small, simple operations where a full function definition is not necessary. Lambda functions can take any number of arguments but can only have one expression."
   ]
  },
  {
   "cell_type": "markdown",
   "id": "b034b342",
   "metadata": {},
   "source": [
    "10. what does pip stand for in python"
   ]
  },
  {
   "cell_type": "markdown",
   "id": "501c54cc",
   "metadata": {},
   "source": [
    "In Python, \"pip\" does not stand for any specific acronym. It is simply a package management system used to install and manage Python packages and libraries. \"pip\" is a recursive acronym, which means that it refers to itself. The name \"pip\" is derived from \"Pip Installs Packages\" or \"Pip Installs Python\" as a way to emphasize its primary function of installing Python packages.\n",
    "\n",
    "You can use the \"pip\" tool to install, upgrade, and uninstall Python packages from the Python Package Index (PyPI) and other sources. It's a widely used and essential tool for Python development and package management."
   ]
  },
  {
   "cell_type": "markdown",
   "id": "b9a17126",
   "metadata": {},
   "source": [
    "11. mention few built-in-functions in python"
   ]
  },
  {
   "cell_type": "markdown",
   "id": "18c66396",
   "metadata": {},
   "source": [
    "print(): Used to display output to the console.\n",
    "\n",
    "len(): Returns the length of an object, such as a string, list, or tuple.\n",
    "\n",
    "input(): Reads user input from the console.\n",
    "\n",
    "type(): Returns the data type of an object.\n",
    "\n",
    "int(), float(), str(): Used for type conversion (casting).\n",
    "\n",
    "range(): Generates a sequence of numbers.\n",
    "\n",
    "list(), tuple(), dict(), set(): Used to create respective data structures.\n",
    "\n",
    "max(), min(): Returns the maximum and minimum values in an iterable.\n",
    "\n",
    "sum(): Calculates the sum of elements in an iterable.\n",
    "\n",
    "abs(): Returns the absolute value of a number."
   ]
  },
  {
   "cell_type": "markdown",
   "id": "9b220fd0",
   "metadata": {},
   "source": [
    "12. what is the maximum possible length of an identifier in python"
   ]
  },
  {
   "cell_type": "markdown",
   "id": "edf02736",
   "metadata": {},
   "source": [
    "In Python, the maximum possible length of an identifier (variable name, function name, etc.) is not explicitly specified in the language's official documentation. However, the Python style guide, known as PEP 8, recommends that identifiers be limited to 79 characters in length. This recommendation is based on the \"recommended maximum line length\" of 79 characters for code in PEP 8."
   ]
  },
  {
   "cell_type": "markdown",
   "id": "c6b7634d",
   "metadata": {},
   "source": [
    "13. what are the benefits of using python?"
   ]
  },
  {
   "cell_type": "markdown",
   "id": "86cff79c",
   "metadata": {},
   "source": [
    "Python is a popular and versatile programming language known for its numerous benefits, which make it a preferred choice for a wide range of applications. Here are some of the key benefits of using Python:\n",
    "\n",
    "Readability and Simplicity: Python's clean and easy-to-read syntax makes it an excellent language for beginners and experienced developers. Its indentation-based block structure promotes consistent and readable code.\n",
    "\n",
    "Large Standard Library: Python comes with a comprehensive standard library that includes modules and packages for various tasks, reducing the need to write code from scratch. This accelerates development and simplifies common tasks.\n",
    "\n",
    "Cross-Platform Compatibility: Python is available on various operating systems, making it highly portable. Code written in Python can often be run without modification on different platforms.\n",
    "\n",
    "Community and Ecosystem: Python has a large and active community of developers and a rich ecosystem of libraries and frameworks. This community support provides resources and solutions for a wide range of applications.\n",
    "\n",
    "Open Source and Free: Python is open source, which means it is free to use, modify, and distribute. This accessibility contributes to its widespread adoption."
   ]
  },
  {
   "cell_type": "markdown",
   "id": "79ba22aa",
   "metadata": {},
   "source": [
    "14. how is memory managed in python"
   ]
  },
  {
   "cell_type": "markdown",
   "id": "de1793ee",
   "metadata": {},
   "source": [
    "Memory management in Python is handled by the Python memory manager, which is responsible for the allocation and deallocation of memory. Python uses a combination of different techniques to manage memory efficiently:\n",
    "\n",
    "Reference Counting, \n",
    "Garbage Collection, \n",
    "Memory Pool, \n",
    "Memory Fragmentation,  \n",
    "Dynamic Typing, \n",
    "Memory Optimizations, \n",
    "Memory Views, \n",
    "Del Statement."
   ]
  },
  {
   "cell_type": "markdown",
   "id": "fdd29111",
   "metadata": {},
   "source": [
    "15. \n",
    "how to install python in windows and  set path variables"
   ]
  },
  {
   "cell_type": "markdown",
   "id": "9d50211a",
   "metadata": {},
   "source": [
    "1. Download Python:\n",
    "Visit the official Python website at https://www.python.org/downloads/windows/.\n",
    "Choose the version of Python you want to install. You'll typically want to download the latest stable version.\n",
    "Select the installer based on your system architecture (32-bit or 64-bit).\n",
    "Download the installer executable (e.g., \"python-3.x.x.exe\").\n",
    "\n",
    "2. Run the Python Installer:\n",
    "Locate the downloaded installer file and double-click it to run it.\n",
    "Check the box that says \"Add Python x.x to PATH.\" This will automatically add Python to your system's PATH environment variable, allowing you to run Python from the command prompt.\n",
    "You can customize the installation by clicking \"Customize installation,\" but the default settings are usually sufficient for most users.\n",
    "Click \"Install Now\" to start the installation.\n",
    "\n",
    "3. Verify Python Installation:\n",
    "Once the installation is complete, open the Command Prompt by searching for \"cmd\" in the Windows Start menu.\n",
    "To verify that Python is correctly installed and the PATH variable is set, type the following command:\n",
    "css\n",
    "Copy code\n",
    "python --version\n",
    "You should see the version of Python you installed.\n",
    "\n",
    "4. Accessing Python:\n",
    "You can run Python by opening the Command Prompt and typing python. This will start the Python interactive shell.\n",
    "To run Python scripts, use the python command followed by the script's filename.\n"
   ]
  },
  {
   "cell_type": "markdown",
   "id": "e4bd6106",
   "metadata": {},
   "source": [
    "16. Is indentation required in python"
   ]
  },
  {
   "cell_type": "markdown",
   "id": "c7e55fed",
   "metadata": {},
   "source": [
    "Yes, indentation is required in Python. Python uses indentation as a fundamental part of its syntax to define code blocks. In most programming languages, code blocks are defined using braces or other delimiters, but in Python, code blocks are defined by the level of indentation."
   ]
  },
  {
   "cell_type": "code",
   "execution_count": null,
   "id": "8253ee49",
   "metadata": {},
   "outputs": [],
   "source": []
  }
 ],
 "metadata": {
  "kernelspec": {
   "display_name": "Python 3 (ipykernel)",
   "language": "python",
   "name": "python3"
  },
  "language_info": {
   "codemirror_mode": {
    "name": "ipython",
    "version": 3
   },
   "file_extension": ".py",
   "mimetype": "text/x-python",
   "name": "python",
   "nbconvert_exporter": "python",
   "pygments_lexer": "ipython3",
   "version": "3.9.13"
  }
 },
 "nbformat": 4,
 "nbformat_minor": 5
}
