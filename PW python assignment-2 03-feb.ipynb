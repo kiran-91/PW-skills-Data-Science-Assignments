{
 "cells": [
  {
   "cell_type": "markdown",
   "id": "faf0015d",
   "metadata": {},
   "source": [
    "1. Which keyword is used to create a function? Create a function to return a list of odd numbers in the range of 1 to 25."
   ]
  },
  {
   "cell_type": "markdown",
   "id": "f4f6aec0",
   "metadata": {},
   "source": [
    "def function_name(args):"
   ]
  },
  {
   "cell_type": "code",
   "execution_count": 2,
   "id": "a2c97d5a",
   "metadata": {},
   "outputs": [],
   "source": [
    "def odd_numbers():\n",
    "    odd_numbers = []\n",
    "    for number in range(1, 26):\n",
    "        if number % 2 != 0:\n",
    "            odd_numbers.append(number)\n",
    "    return odd_numbers"
   ]
  },
  {
   "cell_type": "code",
   "execution_count": 3,
   "id": "366d5590",
   "metadata": {},
   "outputs": [
    {
     "name": "stdout",
     "output_type": "stream",
     "text": [
      "[1, 3, 5, 7, 9, 11, 13, 15, 17, 19, 21, 23, 25]\n"
     ]
    }
   ],
   "source": [
    "odd_numbers_list = odd_numbers()\n",
    "print(odd_numbers_list)"
   ]
  },
  {
   "cell_type": "markdown",
   "id": "8c3f88b5",
   "metadata": {},
   "source": [
    "2. Why *args and **kwargs is used in some functions? Create a function each for *args and **kwargs to demonstrate their use"
   ]
  },
  {
   "cell_type": "code",
   "execution_count": 4,
   "id": "bed105d7",
   "metadata": {},
   "outputs": [],
   "source": [
    "#(*args are used to take multiple arguments as an input)\n",
    "#(**kwargs are used to take multiple arguments in the form of dictionarys as an input)"
   ]
  },
  {
   "cell_type": "code",
   "execution_count": 10,
   "id": "787742cd",
   "metadata": {},
   "outputs": [],
   "source": [
    "def test(*args):\n",
    "    return args"
   ]
  },
  {
   "cell_type": "code",
   "execution_count": 12,
   "id": "b0aeb476",
   "metadata": {},
   "outputs": [
    {
     "data": {
      "text/plain": [
       "(1, 2, 3)"
      ]
     },
     "execution_count": 12,
     "metadata": {},
     "output_type": "execute_result"
    }
   ],
   "source": [
    "test(1,2,3)"
   ]
  },
  {
   "cell_type": "code",
   "execution_count": 13,
   "id": "0ca7e916",
   "metadata": {},
   "outputs": [],
   "source": [
    "def test12(**kwargs):\n",
    "    return kwargs"
   ]
  },
  {
   "cell_type": "code",
   "execution_count": 14,
   "id": "dd8003bf",
   "metadata": {},
   "outputs": [
    {
     "data": {
      "text/plain": [
       "{'a': [1, 2, 3, 4], 'b': 'pwskills', 'c': 23.45}"
      ]
     },
     "execution_count": 14,
     "metadata": {},
     "output_type": "execute_result"
    }
   ],
   "source": [
    "test12(a = [1,2,3,4] , b = \"pwskills\" , c = 23.45 )"
   ]
  },
  {
   "cell_type": "markdown",
   "id": "bc6d5889",
   "metadata": {},
   "source": [
    "3.  What is an iterator in python? Name the method used to initialise the iterator object and the method \n",
    "used for iteration. Use these methods to print the first five elements of the given list [2, 4, 6, 8, 10, 12, 14, \n",
    "16, 18, 20]."
   ]
  },
  {
   "cell_type": "markdown",
   "id": "1a672dde",
   "metadata": {},
   "source": [
    "an iterator is an object that allows you to traverse or iterate through a sequence of elements, such as a list, tuple, or other iterable objects."
   ]
  },
  {
   "cell_type": "code",
   "execution_count": 16,
   "id": "8f85c26f",
   "metadata": {},
   "outputs": [
    {
     "name": "stdout",
     "output_type": "stream",
     "text": [
      "2\n",
      "4\n",
      "6\n",
      "8\n",
      "10\n"
     ]
    }
   ],
   "source": [
    "list = [2, 4, 6, 8, 10, 12, 14, 16, 18, 20]\n",
    "\n",
    "iterator = iter(list)\n",
    "\n",
    "for _ in range(5):\n",
    "    try:\n",
    "        element = next(iterator)\n",
    "        print(element)\n",
    "    except StopIteration:\n",
    "        break"
   ]
  },
  {
   "cell_type": "markdown",
   "id": "5c14d44d",
   "metadata": {},
   "source": [
    "4.  What is a generator function in python? Why yield keyword is used? Give an example of a generator function."
   ]
  },
  {
   "cell_type": "markdown",
   "id": "342a1006",
   "metadata": {},
   "source": [
    "A generator function in Python is a special type of function that allows you to define an iterator. Unlike regular functions that use the return statement to return a value, generator functions use the yield keyword to yield a value one at a time."
   ]
  },
  {
   "cell_type": "code",
   "execution_count": 17,
   "id": "95d4f05e",
   "metadata": {},
   "outputs": [
    {
     "name": "stdout",
     "output_type": "stream",
     "text": [
      "0\n",
      "1\n",
      "2\n",
      "3\n",
      "4\n"
     ]
    }
   ],
   "source": [
    "def number_generator(limit):\n",
    "    n = 0\n",
    "    while n < limit:\n",
    "        yield n\n",
    "        n += 1\n",
    "gen = number_generator(5)\n",
    "for num in gen:\n",
    "    print(num)"
   ]
  },
  {
   "cell_type": "markdown",
   "id": "5616a79c",
   "metadata": {},
   "source": [
    "5. Create a generator function for prime numbers less than 1000. Use the next() method to print the first 20 prime numbers."
   ]
  },
  {
   "cell_type": "code",
   "execution_count": 18,
   "id": "136b0554",
   "metadata": {},
   "outputs": [
    {
     "name": "stdout",
     "output_type": "stream",
     "text": [
      "2\n",
      "3\n",
      "5\n",
      "7\n",
      "11\n",
      "13\n",
      "17\n",
      "19\n",
      "23\n",
      "29\n",
      "31\n",
      "37\n",
      "41\n",
      "43\n",
      "47\n",
      "53\n",
      "59\n",
      "61\n",
      "67\n",
      "71\n"
     ]
    }
   ],
   "source": [
    "def is_prime(num):\n",
    "    if num < 2:\n",
    "        return False\n",
    "    for i in range(2, int(num**0.5) + 1):\n",
    "        if num % i == 0:\n",
    "            return False\n",
    "    return True\n",
    "\n",
    "def prime_generator():\n",
    "    count = 0\n",
    "    num = 2\n",
    "    while count < 20:\n",
    "        if is_prime(num):\n",
    "            yield num\n",
    "            count += 1\n",
    "        num += 1\n",
    "prime_gen = prime_generator()\n",
    "for _ in range(20):\n",
    "    print(next(prime_gen))"
   ]
  },
  {
   "cell_type": "markdown",
   "id": "e28fc801",
   "metadata": {},
   "source": [
    "6.  Write a python program to print the first 10 Fibonacci numbers using a while loop."
   ]
  },
  {
   "cell_type": "code",
   "execution_count": 19,
   "id": "b4f060e8",
   "metadata": {},
   "outputs": [
    {
     "name": "stdout",
     "output_type": "stream",
     "text": [
      "0 1 1 2 3 5 8 13 21 34 "
     ]
    }
   ],
   "source": [
    "a, b = 0, 1\n",
    "count = 0\n",
    "n = 10\n",
    "while count < n:\n",
    "    print(a, end=\" \")  \n",
    "    a, b = b, a + b   \n",
    "    count += 1"
   ]
  },
  {
   "cell_type": "markdown",
   "id": "322eef25",
   "metadata": {},
   "source": [
    "7.Write a List Comprehension to iterate through the given string: ‘pwskills’. Expected output: ['p', 'w', 's', 'k', 'i', 'l', 'l', 's'] "
   ]
  },
  {
   "cell_type": "code",
   "execution_count": 20,
   "id": "de5918dc",
   "metadata": {},
   "outputs": [
    {
     "name": "stdout",
     "output_type": "stream",
     "text": [
      "['p', 'w', 's', 'k', 'i', 'l', 'l', 's']\n"
     ]
    }
   ],
   "source": [
    "input_string = 'pwskills'\n",
    "output_list = [char for char in input_string]\n",
    "print(output_list)"
   ]
  },
  {
   "cell_type": "markdown",
   "id": "6489fde5",
   "metadata": {},
   "source": [
    "8.  Write a python program to check whether a given number is Palindrome or not using a while loop."
   ]
  },
  {
   "cell_type": "code",
   "execution_count": 21,
   "id": "ef5333ad",
   "metadata": {},
   "outputs": [
    {
     "name": "stdout",
     "output_type": "stream",
     "text": [
      "Enter a number: 252\n",
      "252 is a palindrome.\n"
     ]
    }
   ],
   "source": [
    "def is_palindrome(number):\n",
    "    original_number = number \n",
    "    reversed_number = 0 \n",
    "\n",
    "    while number > 0:\n",
    "        digit = number % 10 \n",
    "        reversed_number = reversed_number * 10 + digit \n",
    "        number = number // 10  \n",
    "    \n",
    "    if original_number == reversed_number:\n",
    "        return True\n",
    "    else:\n",
    "        return False\n",
    "\n",
    "num = int(input(\"Enter a number: \"))\n",
    "\n",
    "if is_palindrome(num):\n",
    "    print(f\"{num} is a palindrome.\")\n",
    "else:\n",
    "    print(f\"{num} is not a palindrome.\")"
   ]
  },
  {
   "cell_type": "markdown",
   "id": "b0f7c299",
   "metadata": {},
   "source": [
    "9.  Write a code to print odd numbers from 1 to 100 using list comprehension.\n",
    "\n",
    "Note: Use a list comprehension to create a list from 1 to 100 and use another List comprehension to filter \n",
    "out odd numbers."
   ]
  },
  {
   "cell_type": "code",
   "execution_count": 22,
   "id": "0ffa14b6",
   "metadata": {},
   "outputs": [
    {
     "name": "stdout",
     "output_type": "stream",
     "text": [
      "[1, 3, 5, 7, 9, 11, 13, 15, 17, 19, 21, 23, 25, 27, 29, 31, 33, 35, 37, 39, 41, 43, 45, 47, 49, 51, 53, 55, 57, 59, 61, 63, 65, 67, 69, 71, 73, 75, 77, 79, 81, 83, 85, 87, 89, 91, 93, 95, 97, 99]\n"
     ]
    }
   ],
   "source": [
    "numbers = [num for num in range(1, 101)]\n",
    "odd_numbers = [num for num in numbers if num % 2 != 0]\n",
    "print(odd_numbers)"
   ]
  },
  {
   "cell_type": "code",
   "execution_count": null,
   "id": "b186bf1b",
   "metadata": {},
   "outputs": [],
   "source": []
  }
 ],
 "metadata": {
  "kernelspec": {
   "display_name": "Python 3 (ipykernel)",
   "language": "python",
   "name": "python3"
  },
  "language_info": {
   "codemirror_mode": {
    "name": "ipython",
    "version": 3
   },
   "file_extension": ".py",
   "mimetype": "text/x-python",
   "name": "python",
   "nbconvert_exporter": "python",
   "pygments_lexer": "ipython3",
   "version": "3.9.13"
  }
 },
 "nbformat": 4,
 "nbformat_minor": 5
}
