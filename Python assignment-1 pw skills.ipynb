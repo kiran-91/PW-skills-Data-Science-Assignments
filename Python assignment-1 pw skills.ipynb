{
 "cells": [
  {
   "cell_type": "markdown",
   "id": "8690a897",
   "metadata": {},
   "source": [
    "1. Explain with an example each when to use a for loop and a while loop."
   ]
  },
  {
   "cell_type": "markdown",
   "id": "1645e990",
   "metadata": {},
   "source": [
    "A for loop is typically used when you know in advance how many times you want to repeat a certain block of code"
   ]
  },
  {
   "cell_type": "code",
   "execution_count": 2,
   "id": "201447ea",
   "metadata": {},
   "outputs": [
    {
     "name": "stdout",
     "output_type": "stream",
     "text": [
      "apple\n",
      "banana\n",
      "cherry\n",
      "date\n"
     ]
    }
   ],
   "source": [
    "fruits = [\"apple\", \"banana\", \"cherry\", \"date\"]\n",
    "for fruit in fruits:\n",
    "    print(fruit)"
   ]
  },
  {
   "cell_type": "markdown",
   "id": "7cd98d41",
   "metadata": {},
   "source": [
    "A while loop is used when you don't know how many times you need to execute a block of code in advance, and the loop continues as long as a certain condition is met. It's useful when you have a condition that might change during the loop's execution."
   ]
  },
  {
   "cell_type": "code",
   "execution_count": 4,
   "id": "c9d6b67d",
   "metadata": {},
   "outputs": [
    {
     "name": "stdout",
     "output_type": "stream",
     "text": [
      "Enter a command (or 'quit' to exit): quit\n"
     ]
    }
   ],
   "source": [
    "user_input = \"\"\n",
    "while user_input != \"quit\":\n",
    "    user_input = input(\"Enter a command (or 'quit' to exit): \")"
   ]
  },
  {
   "cell_type": "markdown",
   "id": "a0d6a241",
   "metadata": {},
   "source": [
    "2.Write a python program to print the sum and product of the first 10 natural numbers using for \n",
    "and while loop"
   ]
  },
  {
   "cell_type": "code",
   "execution_count": 5,
   "id": "833ddba6",
   "metadata": {},
   "outputs": [
    {
     "name": "stdout",
     "output_type": "stream",
     "text": [
      "Sum of the first 10 natural numbers: 55\n",
      "Product of the first 10 natural numbers: 3628800\n"
     ]
    }
   ],
   "source": [
    "##Using a For Loop:\n",
    "n = 10\n",
    "sum_result = 0\n",
    "product_result = 1\n",
    "\n",
    "for i in range(1, n + 1):\n",
    "    sum_result += i\n",
    "    product_result *= i\n",
    "\n",
    "print(f\"Sum of the first {n} natural numbers: {sum_result}\")\n",
    "print(f\"Product of the first {n} natural numbers: {product_result}\")"
   ]
  },
  {
   "cell_type": "code",
   "execution_count": 6,
   "id": "8637b402",
   "metadata": {},
   "outputs": [
    {
     "name": "stdout",
     "output_type": "stream",
     "text": [
      "Sum of the first 10 natural numbers: 55\n",
      "Product of the first 10 natural numbers: 3628800\n"
     ]
    }
   ],
   "source": [
    "##Using a While Loop:\n",
    "n = 10\n",
    "sum_result = 0\n",
    "product_result = 1\n",
    "i = 1\n",
    "\n",
    "while i <= n:\n",
    "    sum_result += i\n",
    "    product_result *= i\n",
    "    i += 1\n",
    "\n",
    "print(f\"Sum of the first {n} natural numbers: {sum_result}\")\n",
    "print(f\"Product of the first {n} natural numbers: {product_result}\")"
   ]
  },
  {
   "cell_type": "markdown",
   "id": "794e9fee",
   "metadata": {},
   "source": [
    "3. Create a python program to compute the electricity bill for a household."
   ]
  },
  {
   "cell_type": "code",
   "execution_count": 7,
   "id": "86eda7f7",
   "metadata": {},
   "outputs": [
    {
     "name": "stdout",
     "output_type": "stream",
     "text": [
      "Enter the units of electricity consumed in a month: 310\n",
      "Total electricity bill: Rs. 2350.0\n"
     ]
    }
   ],
   "source": [
    "units_consumed = int(input(\"Enter the units of electricity consumed in a month: \"))\n",
    "\n",
    "total_bill = 0\n",
    "units_to_calculate = units_consumed\n",
    "\n",
    "if units_to_calculate <= 100:\n",
    "    total_bill += units_to_calculate * 4.5\n",
    "    units_to_calculate = 0\n",
    "else:\n",
    "    total_bill += 100 * 4.5\n",
    "    units_to_calculate -= 100\n",
    "\n",
    "if units_to_calculate <= 100:\n",
    "    total_bill += units_to_calculate * 6\n",
    "    units_to_calculate = 0\n",
    "else:\n",
    "    total_bill += 100 * 6\n",
    "    units_to_calculate -= 100\n",
    "\n",
    "if units_to_calculate > 0:\n",
    "    total_bill += units_to_calculate * 10\n",
    "\n",
    "# Calculate additional charges for units above 300\n",
    "if units_consumed > 300:\n",
    "    additional_units = units_consumed - 300\n",
    "    total_bill += additional_units * 20\n",
    "\n",
    "# Print the total electricity bill\n",
    "print(f\"Total electricity bill: Rs. {total_bill}\")\n"
   ]
  },
  {
   "cell_type": "markdown",
   "id": "c95d1901",
   "metadata": {},
   "source": [
    "4.Create a list of numbers from 1 to 100. Use for loop and while loop to calculate the cube of each \n",
    "number and if the cube of that number is divisible by 4 or 5 then append that number in a list and print \n",
    "that list."
   ]
  },
  {
   "cell_type": "code",
   "execution_count": 9,
   "id": "f3044be4",
   "metadata": {},
   "outputs": [
    {
     "name": "stdout",
     "output_type": "stream",
     "text": [
      "Using a for loop:\n",
      "Numbers whose cube is divisible by 4 or 5:\n",
      "[2, 4, 5, 6, 8, 10, 12, 14, 15, 16, 18, 20, 22, 24, 25, 26, 28, 30, 32, 34, 35, 36, 38, 40, 42, 44, 45, 46, 48, 50, 52, 54, 55, 56, 58, 60, 62, 64, 65, 66, 68, 70, 72, 74, 75, 76, 78, 80, 82, 84, 85, 86, 88, 90, 92, 94, 95, 96, 98, 100]\n"
     ]
    }
   ],
   "source": [
    "##Using a For Loop:\n",
    "cubes_divisible_by_4_or_5 = []\n",
    "\n",
    "for num in range(1, 101):\n",
    "    cube = num ** 3\n",
    "    if cube % 4 == 0 or cube % 5 == 0:\n",
    "        cubes_divisible_by_4_or_5.append(num)\n",
    "\n",
    "print(\"Using a for loop:\")\n",
    "print(\"Numbers whose cube is divisible by 4 or 5:\")\n",
    "print(cubes_divisible_by_4_or_5)"
   ]
  },
  {
   "cell_type": "code",
   "execution_count": 10,
   "id": "efa7675b",
   "metadata": {},
   "outputs": [
    {
     "name": "stdout",
     "output_type": "stream",
     "text": [
      "Using a while loop:\n",
      "Numbers whose cube is divisible by 4 or 5:\n",
      "[2, 4, 5, 6, 8, 10, 12, 14, 15, 16, 18, 20, 22, 24, 25, 26, 28, 30, 32, 34, 35, 36, 38, 40, 42, 44, 45, 46, 48, 50, 52, 54, 55, 56, 58, 60, 62, 64, 65, 66, 68, 70, 72, 74, 75, 76, 78, 80, 82, 84, 85, 86, 88, 90, 92, 94, 95, 96, 98, 100]\n"
     ]
    }
   ],
   "source": [
    "##Using a While Loop:\n",
    "cubes_divisible_by_4_or_5 = []\n",
    "num = 1\n",
    "\n",
    "while num <= 100:\n",
    "    cube = num ** 3\n",
    "    if cube % 4 == 0 or cube % 5 == 0:\n",
    "        cubes_divisible_by_4_or_5.append(num)\n",
    "    num += 1\n",
    "\n",
    "print(\"Using a while loop:\")\n",
    "print(\"Numbers whose cube is divisible by 4 or 5:\")\n",
    "print(cubes_divisible_by_4_or_5)"
   ]
  },
  {
   "cell_type": "markdown",
   "id": "44e8f8d6",
   "metadata": {},
   "source": [
    "5. Write a program to filter count vowels in the below-given string.\n",
    "\n",
    "string = \"I want to become a data scientist"
   ]
  },
  {
   "cell_type": "code",
   "execution_count": 12,
   "id": "1e7d363f",
   "metadata": {},
   "outputs": [
    {
     "name": "stdout",
     "output_type": "stream",
     "text": [
      "Number of vowels in the string: 12\n"
     ]
    }
   ],
   "source": [
    "# Input string\n",
    "string = \"I want to become a data scientist\"\n",
    "string = string.lower()\n",
    "vowel_count = 0\n",
    "vowels = \"aeiou\"\n",
    "for char in string:\n",
    "    if char in vowels:\n",
    "        vowel_count += 1\n",
    "\n",
    "print(f\"Number of vowels in the string: {vowel_count}\")"
   ]
  },
  {
   "cell_type": "code",
   "execution_count": null,
   "id": "16c3b142",
   "metadata": {},
   "outputs": [],
   "source": []
  }
 ],
 "metadata": {
  "kernelspec": {
   "display_name": "Python 3 (ipykernel)",
   "language": "python",
   "name": "python3"
  },
  "language_info": {
   "codemirror_mode": {
    "name": "ipython",
    "version": 3
   },
   "file_extension": ".py",
   "mimetype": "text/x-python",
   "name": "python",
   "nbconvert_exporter": "python",
   "pygments_lexer": "ipython3",
   "version": "3.9.13"
  }
 },
 "nbformat": 4,
 "nbformat_minor": 5
}
