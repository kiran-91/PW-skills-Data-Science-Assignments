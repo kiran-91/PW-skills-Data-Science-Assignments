{
 "cells": [
  {
   "cell_type": "markdown",
   "id": "b3efa643",
   "metadata": {},
   "source": [
    "1.  Explain Class and Object with respect to Object-Oriented Programming. Give a suitable example."
   ]
  },
  {
   "cell_type": "markdown",
   "id": "e972660d",
   "metadata": {},
   "source": [
    "Class:\n",
    "    A class is a blueprint or template for creating objects. It defines a set of attributes (data members) and methods (functions) that the objects of that class will have.It acts as a user-defined data type, encapsulating both data and the operations that can be \n",
    "   "
   ]
  },
  {
   "cell_type": "markdown",
   "id": "a9d4cc36",
   "metadata": {},
   "source": [
    "Object:\n",
    "An object is an instance of a class. It is a concrete, individual entity created based on the class's blueprint.Objects can store and manipulate data and interact with other objects to model the behavior of real-world entities."
   ]
  },
  {
   "cell_type": "code",
   "execution_count": 2,
   "id": "7cf18bfa",
   "metadata": {},
   "outputs": [
    {
     "name": "stdout",
     "output_type": "stream",
     "text": [
      "Buddy is a Golden Retriever.\n",
      "Max is a Labrador.\n",
      "Buddy is barking!\n",
      "Max is barking!\n"
     ]
    }
   ],
   "source": [
    "class Dog:\n",
    "    def __init__(self, name, breed):\n",
    "        self.name = name\n",
    "        self.breed = breed\n",
    "\n",
    "    def bark(self):\n",
    "        print(f\"{self.name} is barking!\")\n",
    "dog1 = Dog(\"Buddy\", \"Golden Retriever\")\n",
    "dog2 = Dog(\"Max\", \"Labrador\")\n",
    "print(f\"{dog1.name} is a {dog1.breed}.\")\n",
    "print(f\"{dog2.name} is a {dog2.breed}.\")\n",
    "dog1.bark()\n",
    "dog2.bark()"
   ]
  },
  {
   "cell_type": "markdown",
   "id": "f30ce5c1",
   "metadata": {},
   "source": [
    "2.  Name the four pillars of OOPs."
   ]
  },
  {
   "cell_type": "markdown",
   "id": "ffda4fdb",
   "metadata": {},
   "source": [
    "Encapsulation,Inheritance,Polymorphism,Abstraction"
   ]
  },
  {
   "cell_type": "markdown",
   "id": "a4bfba52",
   "metadata": {},
   "source": [
    "3.  Explain why the __init__() function is used. Give a suitable example"
   ]
  },
  {
   "cell_type": "code",
   "execution_count": 3,
   "id": "0a010472",
   "metadata": {},
   "outputs": [
    {
     "name": "stdout",
     "output_type": "stream",
     "text": [
      "Car 1: 2022 Toyota Camry\n",
      "Car 2: 2023 Honda Civic\n",
      "The 2022 Toyota Camry's engine is now running.\n",
      "The 2023 Honda Civic's engine is now running.\n",
      "The car accelerates to 30 mph.\n",
      "The car accelerates to 20 mph.\n",
      "The car slows down to 20 mph.\n",
      "The car slows down to 5 mph.\n"
     ]
    }
   ],
   "source": [
    "class Car:\n",
    "    def __init__(self, make, model, year):\n",
    "        self.make = make\n",
    "        self.model = model\n",
    "        self.year = year\n",
    "        self.speed = 0  \n",
    "\n",
    "    def start_engine(self):\n",
    "        print(f\"The {self.year} {self.make} {self.model}'s engine is now running.\")\n",
    "\n",
    "    def accelerate(self, increment):\n",
    "        self.speed += increment\n",
    "        print(f\"The car accelerates to {self.speed} mph.\")\n",
    "\n",
    "    def brake(self, decrement):\n",
    "        self.speed -= decrement\n",
    "        print(f\"The car slows down to {self.speed} mph.\")\n",
    "car1 = Car(\"Toyota\", \"Camry\", 2022)\n",
    "car2 = Car(\"Honda\", \"Civic\", 2023)\n",
    "print(f\"Car 1: {car1.year} {car1.make} {car1.model}\")\n",
    "print(f\"Car 2: {car2.year} {car2.make} {car2.model}\")\n",
    "car1.start_engine()\n",
    "car2.start_engine()\n",
    "\n",
    "car1.accelerate(30)\n",
    "car2.accelerate(20)\n",
    "\n",
    "car1.brake(10)\n",
    "car2.brake(15)\n"
   ]
  },
  {
   "cell_type": "markdown",
   "id": "76b18d55",
   "metadata": {},
   "source": [
    "4. Why self is used in OOPs?"
   ]
  },
  {
   "cell_type": "markdown",
   "id": "395d9fa3",
   "metadata": {},
   "source": [
    "The use of self is primarily for two main reasons:"
   ]
  },
  {
   "cell_type": "markdown",
   "id": "c1f9d61b",
   "metadata": {},
   "source": [
    "1. Accessing Object's Attributes and Methods: When you create an instance of a class (an object), you can use self to access its attributes (data members) and methods (functions). It helps differentiate between the attributes/methods of the specific instance and those of the class in general. Without self, you wouldn't know which instance's attributes or methods you are referring to."
   ]
  },
  {
   "cell_type": "markdown",
   "id": "f9669861",
   "metadata": {},
   "source": [
    "2. Passing the Instance Itself: The self parameter is the first parameter in instance methods within a class. When you call a method on an instance, Python automatically passes the instance itself as the first argument to the method. By convention, this first parameter is named self, but you can technically name it anything you like. This allows you to operate on the attributes and methods of that instance within the method."
   ]
  },
  {
   "cell_type": "markdown",
   "id": "2a60932c",
   "metadata": {},
   "source": [
    "5. What is inheritance? Give an example for each type of inheritance."
   ]
  },
  {
   "cell_type": "markdown",
   "id": "585f7ffb",
   "metadata": {},
   "source": [
    "a mechanism that allows one class to inherit the properties and behaviors (attributes and methods) of another class."
   ]
  },
  {
   "cell_type": "code",
   "execution_count": 5,
   "id": "bbdffd1c",
   "metadata": {},
   "outputs": [
    {
     "name": "stdout",
     "output_type": "stream",
     "text": [
      "Woof!\n"
     ]
    }
   ],
   "source": [
    "#Single Inheritance:\n",
    "class Animal:\n",
    "    def speak(self):\n",
    "        pass\n",
    "class Dog(Animal):\n",
    "    def speak(self):\n",
    "        return \"Woof!\"\n",
    "dog = Dog()\n",
    "print(dog.speak()) "
   ]
  },
  {
   "cell_type": "code",
   "execution_count": 6,
   "id": "d34c9072",
   "metadata": {},
   "outputs": [
    {
     "name": "stdout",
     "output_type": "stream",
     "text": [
      "Method 1 from Parent1\n",
      "Method 2 from Parent2\n"
     ]
    }
   ],
   "source": [
    "#Multiple Inheritance:\n",
    "class Parent1:\n",
    "    def method1(self):\n",
    "        return \"Method 1 from Parent1\"\n",
    "class Parent2:\n",
    "    def method2(self):\n",
    "        return \"Method 2 from Parent2\"\n",
    "class Child(Parent1, Parent2):\n",
    "    pass\n",
    "child = Child()\n",
    "print(child.method1()) \n",
    "print(child.method2())  "
   ]
  },
  {
   "cell_type": "code",
   "execution_count": 7,
   "id": "c47b1201",
   "metadata": {},
   "outputs": [
    {
     "name": "stdout",
     "output_type": "stream",
     "text": [
      "Method 1 from Grandparent\n",
      "Method 2 from Parent\n"
     ]
    }
   ],
   "source": [
    "#Multilevel Inheritance:\n",
    "class Grandparent:\n",
    "    def method1(self):\n",
    "        return \"Method 1 from Grandparent\"\n",
    "class Parent(Grandparent):\n",
    "    def method2(self):\n",
    "        return \"Method 2 from Parent\"\n",
    "class Child(Parent):\n",
    "    pass\n",
    "child = Child()\n",
    "print(child.method1()) \n",
    "print(child.method2())  "
   ]
  },
  {
   "cell_type": "code",
   "execution_count": 8,
   "id": "24784c93",
   "metadata": {},
   "outputs": [
    {
     "name": "stdout",
     "output_type": "stream",
     "text": [
      "78.5\n",
      "16\n"
     ]
    }
   ],
   "source": [
    "#Hierarchical Inheritance:\n",
    "class Shape:\n",
    "    def area(self):\n",
    "        pass\n",
    "class Circle(Shape):\n",
    "    def area(self, radius):\n",
    "        return 3.14 * radius * radius\n",
    "class Square(Shape):\n",
    "    def area(self, side_length):\n",
    "        return side_length * side_length\n",
    "circle = Circle()\n",
    "square = Square()\n",
    "print(circle.area(5))  \n",
    "print(square.area(4)) "
   ]
  },
  {
   "cell_type": "code",
   "execution_count": null,
   "id": "ccffaf5e",
   "metadata": {},
   "outputs": [],
   "source": []
  }
 ],
 "metadata": {
  "kernelspec": {
   "display_name": "Python 3 (ipykernel)",
   "language": "python",
   "name": "python3"
  },
  "language_info": {
   "codemirror_mode": {
    "name": "ipython",
    "version": 3
   },
   "file_extension": ".py",
   "mimetype": "text/x-python",
   "name": "python",
   "nbconvert_exporter": "python",
   "pygments_lexer": "ipython3",
   "version": "3.9.13"
  }
 },
 "nbformat": 4,
 "nbformat_minor": 5
}
